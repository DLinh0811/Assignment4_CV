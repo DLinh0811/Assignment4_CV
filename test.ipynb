{
 "cells": [
  {
   "cell_type": "code",
   "execution_count": 2,
   "metadata": {},
   "outputs": [
    {
     "name": "stdout",
     "output_type": "stream",
     "text": [
      "[tensor([1.])]\n",
      "tensor([1.])\n"
     ]
    }
   ],
   "source": [
    "import torch\n",
    "\n",
    "def accuracy(output, target, topk=(1,)):\n",
    "    with torch.no_grad():\n",
    "        maxk = max(topk) # Finds the maximum value in the topk tuple. This determines the maximum number of predictions to consider.\n",
    "        batch_size = target.size(0)\n",
    "\n",
    "        _, pred = output.topk(maxk, 1, True, True) # Get top-5 predictions (topk, dimension, sort, index)\n",
    "        pred = pred.t()\n",
    "        correct = pred.eq(target.view(1, -1).expand_as(pred))# Compare predictions with true labels\n",
    "\n",
    "        res = []\n",
    "        for k in topk:\n",
    "            correct_k = correct[:k].reshape(-1).float().sum(0, keepdim=True)\n",
    "            res.append(correct_k.mul_(1.0 / batch_size))\n",
    "        return res\n",
    "\n",
    "# Example data\n",
    "output = torch.tensor([[0.1, 0.2, 0.3, 0.4, 0.0],\n",
    "                       [0.2, 0.1, 0.4, 0.3, 0.0]])\n",
    "target = torch.tensor([3, 2])\n",
    "\n",
    "# Calculate top-5 accuracy\n",
    "acc = accuracy(output, target, topk=(5,))\n",
    "print(acc)  # Output: [tensor([1.])]\n",
    "\n",
    "# Calculate top-1 accuracy\n",
    "acc = accuracy(output, target, topk=(1,))[0]\n",
    "print(acc)  # Output: [tensor([0.5])]\n"
   ]
  },
  {
   "cell_type": "code",
   "execution_count": 3,
   "metadata": {},
   "outputs": [
    {
     "name": "stdout",
     "output_type": "stream",
     "text": [
      "tensor([1.])\n",
      "tensor(1.)\n"
     ]
    }
   ],
   "source": [
    "def accuracy(output, target, topk=(1,)):\n",
    "    \"\"\"\n",
    "    Computes the accuracy over the k top predictions for the specified values of k\n",
    "    In top-3 accuracy you give yourself credit for having the right answer\n",
    "    if the right answer appears in your top five guesses.\n",
    "    \"\"\"\n",
    "    with torch.no_grad():\n",
    "        maxk = 3\n",
    "        batch_size = target.size(0)\n",
    "\n",
    "        # st()\n",
    "        _, pred = output.topk(maxk, 1, True, True)\n",
    "        pred = pred.t()\n",
    "        # st()\n",
    "        # correct = pred.eq(target.view(1, -1).expand_as(pred))\n",
    "        # correct = (pred == target.view(1, -1).expand_as(pred))\n",
    "        correct = (pred == target.unsqueeze(dim=0)).expand_as(pred)\n",
    "        correct_3 = correct[:3].reshape(-1).float().sum(0, keepdim=True)\n",
    "\n",
    "        return correct_3.mul_(1.0 / batch_size)\n",
    "    \n",
    "\n",
    "# Example data\n",
    "output = torch.tensor([[0.1, 0.2, 0.3, 0.4, 0.0],\n",
    "                       [0.2, 0.1, 0.4, 0.3, 0.0]])\n",
    "target = torch.tensor([3, 2])\n",
    "\n",
    "# Calculate top-5 accuracy\n",
    "acc = accuracy(output, target, topk=(5,))\n",
    "print(acc)  # Output: [tensor([1.])]\n",
    "\n",
    "# Calculate top-1 accuracy\n",
    "acc = accuracy(output, target, topk=(1,))[0]\n",
    "print(acc)  # Output: [tensor([0.5])]"
   ]
  },
  {
   "cell_type": "code",
   "execution_count": null,
   "metadata": {},
   "outputs": [],
   "source": []
  }
 ],
 "metadata": {
  "kernelspec": {
   "display_name": "Python 3",
   "language": "python",
   "name": "python3"
  },
  "language_info": {
   "codemirror_mode": {
    "name": "ipython",
    "version": 3
   },
   "file_extension": ".py",
   "mimetype": "text/x-python",
   "name": "python",
   "nbconvert_exporter": "python",
   "pygments_lexer": "ipython3",
   "version": "3.12.4"
  }
 },
 "nbformat": 4,
 "nbformat_minor": 2
}
